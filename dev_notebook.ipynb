{
  "nbformat": 4,
  "nbformat_minor": 0,
  "metadata": {
    "colab": {
      "provenance": [],
      "authorship_tag": "ABX9TyOVIRy622mEoIQrakZhuvZI",
      "include_colab_link": true
    },
    "kernelspec": {
      "name": "python3",
      "display_name": "Python 3"
    },
    "language_info": {
      "name": "python"
    }
  },
  "cells": [
    {
      "cell_type": "markdown",
      "metadata": {
        "id": "view-in-github",
        "colab_type": "text"
      },
      "source": [
        "<a href=\"https://colab.research.google.com/github/taran50/black-scholes-ui/blob/main/dev_notebook.ipynb\" target=\"_parent\"><img src=\"https://colab.research.google.com/assets/colab-badge.svg\" alt=\"Open In Colab\"/></a>"
      ]
    },
    {
      "cell_type": "code",
      "source": [
        "%%writefile black_scholes.py\n",
        "import numpy as np\n",
        "from scipy.stats import norm\n",
        "\n",
        "def d1(S, K, T, r, sigma):\n",
        "    return (np.log(S / K) + (r + 0.5 * sigma ** 2) * T) / (sigma * np.sqrt(T))\n",
        "\n",
        "def d2(S, K, T, r, sigma):\n",
        "    return d1(S, K, T, r, sigma) - sigma * np.sqrt(T)\n",
        "\n",
        "def call_price(S, K, T, r, sigma):\n",
        "    return S * norm.cdf(d1(S, K, T, r, sigma)) - K * np.exp(-r * T) * norm.cdf(d2(S, K, T, r, sigma))\n",
        "\n",
        "def put_price(S, K, T, r, sigma):\n",
        "    return K * np.exp(-r * T) * norm.cdf(-d2(S, K, T, r, sigma)) - S * norm.cdf(-d1(S, K, T, r, sigma))\n",
        "\n",
        "def greeks(S, K, T, r, sigma, option_type='call'):\n",
        "    d1_val = d1(S, K, T, r, sigma)\n",
        "    d2_val = d2(S, K, T, r, sigma)\n",
        "    delta = norm.cdf(d1_val) if option_type == 'call' else -norm.cdf(-d1_val)\n",
        "    gamma = norm.pdf(d1_val) / (S * sigma * np.sqrt(T))\n",
        "    vega = S * norm.pdf(d1_val) * np.sqrt(T)\n",
        "    theta = (-S * norm.pdf(d1_val) * sigma / (2 * np.sqrt(T)) -\n",
        "             r * K * np.exp(-r * T) * norm.cdf(d2_val if option_type == 'call' else -d2_val))\n",
        "    rho = K * T * np.exp(-r * T) * norm.cdf(d2_val if option_type == 'call' else -d2_val)\n",
        "    return {'delta': delta, 'gamma': gamma, 'vega': vega, 'theta': theta, 'rho': rho}\n"
      ],
      "metadata": {
        "colab": {
          "base_uri": "https://localhost:8080/"
        },
        "id": "1DGSSI4NOLU6",
        "outputId": "d0f26b55-4f78-48b6-b625-c3f680a0296b"
      },
      "execution_count": 13,
      "outputs": [
        {
          "output_type": "stream",
          "name": "stdout",
          "text": [
            "Writing black_scholes.py\n"
          ]
        }
      ]
    },
    {
      "cell_type": "code",
      "source": [],
      "metadata": {
        "id": "V8xdtZhzOLSU"
      },
      "execution_count": null,
      "outputs": []
    },
    {
      "cell_type": "code",
      "source": [],
      "metadata": {
        "id": "vZAnmWqkfZe_"
      },
      "execution_count": null,
      "outputs": []
    },
    {
      "cell_type": "code",
      "source": [],
      "metadata": {
        "id": "VamvZcVBfZcZ"
      },
      "execution_count": null,
      "outputs": []
    },
    {
      "cell_type": "code",
      "source": [],
      "metadata": {
        "id": "27O-wEDhfZZh"
      },
      "execution_count": null,
      "outputs": []
    },
    {
      "cell_type": "code",
      "source": [],
      "metadata": {
        "id": "Oojff_tXfZWs"
      },
      "execution_count": null,
      "outputs": []
    }
  ]
}